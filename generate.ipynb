{
 "cells": [
  {
   "cell_type": "code",
   "execution_count": null,
   "metadata": {},
   "outputs": [],
   "source": [
    "import uuid\n",
    "\n",
    "import numpy as np\n",
    "import pandas as pd\n",
    "import scipy.stats as stats"
   ]
  },
  {
   "cell_type": "code",
   "execution_count": null,
   "metadata": {},
   "outputs": [],
   "source": [
    "class Sample():\n",
    "    def __init__(self, size):\n",
    "        self._size = size\n",
    "        self._classes = self._gen_classes()\n",
    "        self._data = None\n",
    "        self._df = None\n",
    "    \n",
    "    def __repr__(self):\n",
    "        return f\"Sample with size {self._size}\"\n",
    "    \n",
    "    @property\n",
    "    def size(self):\n",
    "        return self._size\n",
    "    \n",
    "    @property\n",
    "    def classes(self):\n",
    "        return self._classes\n",
    "    \n",
    "    @property\n",
    "    def data(self):\n",
    "        if not self._data:\n",
    "            self._data = [item for sublist in [c.data for c in self.classes] for item in sublist]\n",
    "        return self._data\n",
    "    \n",
    "    @property\n",
    "    def df(self):\n",
    "        if self._df is None:\n",
    "            self._df = pd.DataFrame(self.data)\n",
    "            self._df[\"sex\"] = self._df[\"sex\"].astype('category')\n",
    "        return self._df\n",
    "    \n",
    "    def _gen_class(self):\n",
    "        return Class()\n",
    "    \n",
    "    def _gen_classes(self):\n",
    "        return [self._gen_class() for i in range(self._size)]"
   ]
  },
  {
   "cell_type": "code",
   "execution_count": null,
   "metadata": {},
   "outputs": [],
   "source": [
    "class Class():\n",
    "    def __init__(self):\n",
    "        self._id = \"c_\" + uuid.uuid4().hex[:6]\n",
    "        self._n_students = self._gen_n_students()\n",
    "        self._grade = self._gen_grade()\n",
    "        self._students = self._gen_students()\n",
    "        self._data = None\n",
    "\n",
    "    def __repr__(self):\n",
    "        return f\"Class {self._id}: {self.grade} grade with {self.n_students} students\"\n",
    "        \n",
    "    @property\n",
    "    def n_students(self):\n",
    "        return self._n_students\n",
    "        \n",
    "    @property\n",
    "    def grade(self):\n",
    "        return self._grade\n",
    "\n",
    "    @property\n",
    "    def students(self):\n",
    "        return self._students\n",
    "    \n",
    "    @property\n",
    "    def data(self):\n",
    "        if not self._data:\n",
    "            self._data = [s.data for s in self.students]\n",
    "        return self._data\n",
    "    \n",
    "    def _gen_n_students(self):\n",
    "        lo, hi = 20, 34\n",
    "        m, sd = 28.7, 3.4\n",
    "        a, b = (lo - m) / sd, (hi - m) / sd\n",
    "        return int(round(stats.truncnorm.rvs(a, b, loc=m, scale=sd)))\n",
    "\n",
    "    def _gen_grade(self):\n",
    "        return np.random.choice([8, 9])\n",
    "    \n",
    "    def _gen_student(self):\n",
    "        return Student(self.grade, self._id)\n",
    "    \n",
    "    def _gen_students(self):\n",
    "        return [self._gen_student() for i in range(self.n_students)]"
   ]
  },
  {
   "cell_type": "code",
   "execution_count": null,
   "metadata": {},
   "outputs": [],
   "source": [
    "class Student():\n",
    "    def __init__(self, grade, class_id):\n",
    "        self._id = \"s_\" + uuid.uuid4().hex[:6]\n",
    "        self._grade = grade\n",
    "        self._class_id = class_id\n",
    "        self._sex = self._gen_sex()\n",
    "        self._age = self._gen_age(grade)\n",
    "\n",
    "    def __repr__(self):\n",
    "        return f\"Student {self._id}: {self.age:.1f}y/{self.sex}, {self.grade} grade\"\n",
    "\n",
    "    @property\n",
    "    def grade(self):\n",
    "        return self._grade\n",
    "    \n",
    "    @property\n",
    "    def sex(self):\n",
    "        return self._sex\n",
    "    \n",
    "    @property\n",
    "    def age(self):\n",
    "        return self._age\n",
    "    \n",
    "    @property\n",
    "    def data(self):\n",
    "        return dict(uid=self._id, class_id=self._class_id, grade=self.grade, sex=self.sex, age=self.age)\n",
    "        \n",
    "    def _gen_sex(self):\n",
    "        return np.random.choice(['male', 'female'])\n",
    "    \n",
    "    def _gen_age(self, grade):\n",
    "        if grade == 8:\n",
    "            m, sd = 13.5, 0.5\n",
    "        elif grade == 9:\n",
    "            m, sd = 14.5, 0.5\n",
    "        else:\n",
    "            raise(\"Form\")\n",
    "\n",
    "        return np.random.normal(loc=m, scale=sd)"
   ]
  },
  {
   "cell_type": "code",
   "execution_count": null,
   "metadata": {},
   "outputs": [],
   "source": [
    "%%time\n",
    "s = Sample(1000)"
   ]
  },
  {
   "cell_type": "code",
   "execution_count": null,
   "metadata": {},
   "outputs": [],
   "source": [
    "s.df.head()"
   ]
  },
  {
   "cell_type": "code",
   "execution_count": null,
   "metadata": {},
   "outputs": [],
   "source": [
    "s.df.dtypes"
   ]
  },
  {
   "cell_type": "code",
   "execution_count": null,
   "metadata": {},
   "outputs": [],
   "source": [
    "s.df.describe(include=\"all\")"
   ]
  },
  {
   "cell_type": "code",
   "execution_count": null,
   "metadata": {},
   "outputs": [],
   "source": [
    "s.df.groupby(\"grade\").mean()"
   ]
  },
  {
   "cell_type": "code",
   "execution_count": null,
   "metadata": {},
   "outputs": [],
   "source": [
    "s.df"
   ]
  },
  {
   "cell_type": "code",
   "execution_count": null,
   "metadata": {},
   "outputs": [],
   "source": []
  }
 ],
 "metadata": {
  "kernelspec": {
   "display_name": "Python 3",
   "language": "python",
   "name": "python3"
  },
  "language_info": {
   "codemirror_mode": {
    "name": "ipython",
    "version": 3
   },
   "file_extension": ".py",
   "mimetype": "text/x-python",
   "name": "python",
   "nbconvert_exporter": "python",
   "pygments_lexer": "ipython3",
   "version": "3.7.0"
  }
 },
 "nbformat": 4,
 "nbformat_minor": 2
}
